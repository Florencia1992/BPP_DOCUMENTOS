{
 "cells": [
  {
   "cell_type": "code",
   "execution_count": 6,
   "id": "ac1dafd5",
   "metadata": {},
   "outputs": [],
   "source": [
    "import pandas as pd\n",
    "import csv\n"
   ]
  },
  {
   "cell_type": "code",
   "execution_count": 7,
   "id": "1fc77c5b",
   "metadata": {},
   "outputs": [],
   "source": [
    "df=pd.read_csv(\"finanzas2020[1].csv\",sep=\"\\t\",skipinitialspace=True)"
   ]
  },
  {
   "cell_type": "code",
   "execution_count": 8,
   "id": "0ce06dcf",
   "metadata": {},
   "outputs": [
    {
     "data": {
      "text/html": [
       "<div>\n",
       "<style scoped>\n",
       "    .dataframe tbody tr th:only-of-type {\n",
       "        vertical-align: middle;\n",
       "    }\n",
       "\n",
       "    .dataframe tbody tr th {\n",
       "        vertical-align: top;\n",
       "    }\n",
       "\n",
       "    .dataframe thead th {\n",
       "        text-align: right;\n",
       "    }\n",
       "</style>\n",
       "<table border=\"1\" class=\"dataframe\">\n",
       "  <thead>\n",
       "    <tr style=\"text-align: right;\">\n",
       "      <th></th>\n",
       "      <th>Enero</th>\n",
       "      <th>Febrero</th>\n",
       "      <th>Marzo</th>\n",
       "      <th>Abril</th>\n",
       "      <th>Mayo</th>\n",
       "      <th>Junio</th>\n",
       "      <th>Julio</th>\n",
       "      <th>Agosto</th>\n",
       "      <th>Septiembre</th>\n",
       "      <th>Octubre</th>\n",
       "      <th>Noviembre</th>\n",
       "      <th>Diciembre</th>\n",
       "    </tr>\n",
       "  </thead>\n",
       "  <tbody>\n",
       "    <tr>\n",
       "      <th>0</th>\n",
       "      <td>-760</td>\n",
       "      <td>343</td>\n",
       "      <td>265</td>\n",
       "      <td>-624</td>\n",
       "      <td>-390</td>\n",
       "      <td>-796</td>\n",
       "      <td>601</td>\n",
       "      <td>-780</td>\n",
       "      <td>-491</td>\n",
       "      <td>645</td>\n",
       "      <td>-248</td>\n",
       "      <td>714</td>\n",
       "    </tr>\n",
       "    <tr>\n",
       "      <th>1</th>\n",
       "      <td>223</td>\n",
       "      <td>491</td>\n",
       "      <td>-397</td>\n",
       "      <td>-123</td>\n",
       "      <td>6</td>\n",
       "      <td>-115</td>\n",
       "      <td>157</td>\n",
       "      <td>-741</td>\n",
       "      <td>-951</td>\n",
       "      <td>267</td>\n",
       "      <td>14</td>\n",
       "      <td>-596</td>\n",
       "    </tr>\n",
       "    <tr>\n",
       "      <th>2</th>\n",
       "      <td>-872</td>\n",
       "      <td>-913</td>\n",
       "      <td>558</td>\n",
       "      <td>278</td>\n",
       "      <td>544</td>\n",
       "      <td>-223</td>\n",
       "      <td>607</td>\n",
       "      <td>-113</td>\n",
       "      <td>348</td>\n",
       "      <td>576</td>\n",
       "      <td>-977</td>\n",
       "      <td>195</td>\n",
       "    </tr>\n",
       "    <tr>\n",
       "      <th>3</th>\n",
       "      <td>111</td>\n",
       "      <td>-842</td>\n",
       "      <td>730</td>\n",
       "      <td>-761</td>\n",
       "      <td>158</td>\n",
       "      <td>-963</td>\n",
       "      <td>-290</td>\n",
       "      <td>-669</td>\n",
       "      <td>191</td>\n",
       "      <td>130</td>\n",
       "      <td>170</td>\n",
       "      <td>-274</td>\n",
       "    </tr>\n",
       "    <tr>\n",
       "      <th>4</th>\n",
       "      <td>919</td>\n",
       "      <td>111</td>\n",
       "      <td>-688</td>\n",
       "      <td>15</td>\n",
       "      <td>395</td>\n",
       "      <td>9</td>\n",
       "      <td>553</td>\n",
       "      <td>297</td>\n",
       "      <td>-302</td>\n",
       "      <td>695</td>\n",
       "      <td>730</td>\n",
       "      <td>-731</td>\n",
       "    </tr>\n",
       "  </tbody>\n",
       "</table>\n",
       "</div>"
      ],
      "text/plain": [
       "  Enero  Febrero  Marzo  Abril  Mayo  Junio Julio  Agosto Septiembre Octubre  \\\n",
       "0  -760      343    265   -624  -390   -796   601    -780       -491     645   \n",
       "1   223      491   -397   -123     6   -115   157    -741       -951     267   \n",
       "2  -872     -913    558    278   544   -223   607    -113        348     576   \n",
       "3   111     -842    730   -761   158   -963  -290    -669        191     130   \n",
       "4   919      111   -688     15   395      9   553     297       -302     695   \n",
       "\n",
       "  Noviembre  Diciembre  \n",
       "0      -248        714  \n",
       "1        14       -596  \n",
       "2      -977        195  \n",
       "3       170       -274  \n",
       "4       730       -731  "
      ]
     },
     "execution_count": 8,
     "metadata": {},
     "output_type": "execute_result"
    }
   ],
   "source": [
    "df.head()"
   ]
  },
  {
   "cell_type": "code",
   "execution_count": 9,
   "id": "2ba7b9cf",
   "metadata": {},
   "outputs": [
    {
     "data": {
      "text/plain": [
       "Enero         object\n",
       "Febrero        int64\n",
       "Marzo          int64\n",
       "Abril          int64\n",
       "Mayo           int64\n",
       "Junio          int64\n",
       "Julio         object\n",
       "Agosto         int64\n",
       "Septiembre    object\n",
       "Octubre       object\n",
       "Noviembre     object\n",
       "Diciembre      int64\n",
       "dtype: object"
      ]
     },
     "execution_count": 9,
     "metadata": {},
     "output_type": "execute_result"
    }
   ],
   "source": [
    "df.dtypes"
   ]
  },
  {
   "cell_type": "code",
   "execution_count": 10,
   "id": "1b05ff53",
   "metadata": {},
   "outputs": [
    {
     "name": "stdout",
     "output_type": "stream",
     "text": [
      "1.All string will be replaced by 0\n",
      "2. Can only use .str accessor with string values! All string will be replaced by 0\n",
      "4.All negative numeric string will be converted into INT\n"
     ]
    }
   ],
   "source": [
    "try:\n",
    "    print(\"1.All string will be replaced by 0\")\n",
    "    for column in df:\n",
    "        df[column]=df[column].str.replace('[^0-9]','',regex=True).astype(int)\n",
    "except Exception as e:\n",
    "    print(\"2.\",e,\"All string will be replaced by 0\")\n",
    "    for column in df:\n",
    "        df[column]=df[column].replace(regex='([a-zA-Z])',value=int(0))\n",
    "else:\n",
    "    print(\"3.All missing value will be replace by 0\")\n",
    "    df.fillna(int(0))\n",
    "finally:\n",
    "    print(\"4.All negative numeric string will be converted into INT\")\n",
    "    for column in df:\n",
    "        df[column]=df[column].replace(\"'\",'',regex=True).astype(int)\n"
   ]
  },
  {
   "cell_type": "code",
   "execution_count": 11,
   "id": "e265457d",
   "metadata": {},
   "outputs": [
    {
     "data": {
      "text/plain": [
       "Enero         int32\n",
       "Febrero       int32\n",
       "Marzo         int32\n",
       "Abril         int32\n",
       "Mayo          int32\n",
       "Junio         int32\n",
       "Julio         int32\n",
       "Agosto        int32\n",
       "Septiembre    int32\n",
       "Octubre       int32\n",
       "Noviembre     int32\n",
       "Diciembre     int32\n",
       "dtype: object"
      ]
     },
     "execution_count": 11,
     "metadata": {},
     "output_type": "execute_result"
    }
   ],
   "source": [
    "df.dtypes"
   ]
  },
  {
   "cell_type": "code",
   "execution_count": 12,
   "id": "a1d1bc6f",
   "metadata": {},
   "outputs": [
    {
     "data": {
      "text/html": [
       "<div>\n",
       "<style scoped>\n",
       "    .dataframe tbody tr th:only-of-type {\n",
       "        vertical-align: middle;\n",
       "    }\n",
       "\n",
       "    .dataframe tbody tr th {\n",
       "        vertical-align: top;\n",
       "    }\n",
       "\n",
       "    .dataframe thead th {\n",
       "        text-align: right;\n",
       "    }\n",
       "</style>\n",
       "<table border=\"1\" class=\"dataframe\">\n",
       "  <thead>\n",
       "    <tr style=\"text-align: right;\">\n",
       "      <th></th>\n",
       "      <th>Enero</th>\n",
       "      <th>Febrero</th>\n",
       "      <th>Marzo</th>\n",
       "      <th>Abril</th>\n",
       "      <th>Mayo</th>\n",
       "      <th>Junio</th>\n",
       "      <th>Julio</th>\n",
       "      <th>Agosto</th>\n",
       "      <th>Septiembre</th>\n",
       "      <th>Octubre</th>\n",
       "      <th>Noviembre</th>\n",
       "      <th>Diciembre</th>\n",
       "    </tr>\n",
       "  </thead>\n",
       "  <tbody>\n",
       "    <tr>\n",
       "      <th>0</th>\n",
       "      <td>760</td>\n",
       "      <td>343</td>\n",
       "      <td>265</td>\n",
       "      <td>-624</td>\n",
       "      <td>-390</td>\n",
       "      <td>-796</td>\n",
       "      <td>601</td>\n",
       "      <td>-780</td>\n",
       "      <td>-491</td>\n",
       "      <td>645</td>\n",
       "      <td>-248</td>\n",
       "      <td>714</td>\n",
       "    </tr>\n",
       "    <tr>\n",
       "      <th>1</th>\n",
       "      <td>223</td>\n",
       "      <td>491</td>\n",
       "      <td>-397</td>\n",
       "      <td>-123</td>\n",
       "      <td>6</td>\n",
       "      <td>-115</td>\n",
       "      <td>157</td>\n",
       "      <td>-741</td>\n",
       "      <td>-951</td>\n",
       "      <td>267</td>\n",
       "      <td>14</td>\n",
       "      <td>-596</td>\n",
       "    </tr>\n",
       "    <tr>\n",
       "      <th>2</th>\n",
       "      <td>872</td>\n",
       "      <td>-913</td>\n",
       "      <td>558</td>\n",
       "      <td>278</td>\n",
       "      <td>544</td>\n",
       "      <td>-223</td>\n",
       "      <td>607</td>\n",
       "      <td>-113</td>\n",
       "      <td>348</td>\n",
       "      <td>576</td>\n",
       "      <td>-977</td>\n",
       "      <td>195</td>\n",
       "    </tr>\n",
       "    <tr>\n",
       "      <th>3</th>\n",
       "      <td>111</td>\n",
       "      <td>-842</td>\n",
       "      <td>730</td>\n",
       "      <td>-761</td>\n",
       "      <td>158</td>\n",
       "      <td>-963</td>\n",
       "      <td>-290</td>\n",
       "      <td>-669</td>\n",
       "      <td>191</td>\n",
       "      <td>130</td>\n",
       "      <td>170</td>\n",
       "      <td>-274</td>\n",
       "    </tr>\n",
       "    <tr>\n",
       "      <th>4</th>\n",
       "      <td>919</td>\n",
       "      <td>111</td>\n",
       "      <td>-688</td>\n",
       "      <td>15</td>\n",
       "      <td>395</td>\n",
       "      <td>9</td>\n",
       "      <td>553</td>\n",
       "      <td>297</td>\n",
       "      <td>-302</td>\n",
       "      <td>695</td>\n",
       "      <td>730</td>\n",
       "      <td>-731</td>\n",
       "    </tr>\n",
       "  </tbody>\n",
       "</table>\n",
       "</div>"
      ],
      "text/plain": [
       "   Enero  Febrero  Marzo  Abril  Mayo  Junio  Julio  Agosto  Septiembre  \\\n",
       "0    760      343    265   -624  -390   -796    601    -780        -491   \n",
       "1    223      491   -397   -123     6   -115    157    -741        -951   \n",
       "2    872     -913    558    278   544   -223    607    -113         348   \n",
       "3    111     -842    730   -761   158   -963   -290    -669         191   \n",
       "4    919      111   -688     15   395      9    553     297        -302   \n",
       "\n",
       "   Octubre  Noviembre  Diciembre  \n",
       "0      645       -248        714  \n",
       "1      267         14       -596  \n",
       "2      576       -977        195  \n",
       "3      130        170       -274  \n",
       "4      695        730       -731  "
      ]
     },
     "execution_count": 12,
     "metadata": {},
     "output_type": "execute_result"
    }
   ],
   "source": [
    "df.head()"
   ]
  },
  {
   "cell_type": "code",
   "execution_count": 13,
   "id": "654d39e3",
   "metadata": {},
   "outputs": [
    {
     "name": "stdout",
     "output_type": "stream",
     "text": [
      "                   Enero  Febrero  Marzo  Abril   Mayo  Junio  Julio  Agosto  \\\n",
      "0                    760      343    265   -624   -390   -796    601    -780   \n",
      "1                    223      491   -397   -123      6   -115    157    -741   \n",
      "2                    872     -913    558    278    544   -223    607    -113   \n",
      "3                    111     -842    730   -761    158   -963   -290    -669   \n",
      "4                    919      111   -688     15    395      9    553     297   \n",
      "...                  ...      ...    ...    ...    ...    ...    ...     ...   \n",
      "96                   777     -905   -405    110   -444   -978   -285    -346   \n",
      "97                   380      946   -790      9    -59   -743   -296     321   \n",
      "98                   244      -44   -271    462    -55   -699    674    -203   \n",
      "99                   126     -221    290   -960   -303   -384    506     -11   \n",
      "Total por columna  47847       39  -7969 -18933  10304  -1477   7698   -8735   \n",
      "\n",
      "                   Septiembre  Octubre  Noviembre  Diciembre  \n",
      "0                        -491      645       -248        714  \n",
      "1                        -951      267         14       -596  \n",
      "2                         348      576       -977        195  \n",
      "3                         191      130        170       -274  \n",
      "4                        -302      695        730       -731  \n",
      "...                       ...      ...        ...        ...  \n",
      "96                        207     -363        696       -971  \n",
      "97                       -767      944       -116       -873  \n",
      "98                       -792     -848        263       -378  \n",
      "99                       -456      268        630        271  \n",
      "Total por columna      -10948     3412       1157      -3044  \n",
      "\n",
      "[101 rows x 12 columns]\n"
     ]
    }
   ],
   "source": [
    "df.loc['Total por columna']=df.sum(axis=0)\n",
    "print(df)"
   ]
  },
  {
   "cell_type": "code",
   "execution_count": 14,
   "id": "06faa7fb",
   "metadata": {},
   "outputs": [
    {
     "data": {
      "text/plain": [
       "Enero         47847\n",
       "Febrero          39\n",
       "Marzo         -7969\n",
       "Abril        -18933\n",
       "Mayo          10304\n",
       "Junio         -1477\n",
       "Julio          7698\n",
       "Agosto        -8735\n",
       "Septiembre   -10948\n",
       "Octubre        3412\n",
       "Noviembre      1157\n",
       "Diciembre     -3044\n",
       "Name: Total por columna, dtype: int64"
      ]
     },
     "execution_count": 14,
     "metadata": {},
     "output_type": "execute_result"
    }
   ],
   "source": [
    "df.iloc[100]"
   ]
  },
  {
   "cell_type": "code",
   "execution_count": 15,
   "id": "6a7e1f6c",
   "metadata": {},
   "outputs": [
    {
     "data": {
      "text/plain": [
       "'Enero'"
      ]
     },
     "execution_count": 15,
     "metadata": {},
     "output_type": "execute_result"
    }
   ],
   "source": [
    "df.iloc[100].idxmax()"
   ]
  },
  {
   "cell_type": "code",
   "execution_count": 16,
   "id": "bd8471ef",
   "metadata": {},
   "outputs": [
    {
     "data": {
      "text/plain": [
       "'Abril'"
      ]
     },
     "execution_count": 16,
     "metadata": {},
     "output_type": "execute_result"
    }
   ],
   "source": [
    "df.iloc[100].idxmin()"
   ]
  },
  {
   "cell_type": "code",
   "execution_count": 17,
   "id": "77c4e545",
   "metadata": {},
   "outputs": [
    {
     "data": {
      "text/plain": [
       "1612.5833333333333"
      ]
     },
     "execution_count": 17,
     "metadata": {},
     "output_type": "execute_result"
    }
   ],
   "source": [
    "df.iloc[100].mean()"
   ]
  },
  {
   "cell_type": "code",
   "execution_count": 18,
   "id": "66408218",
   "metadata": {},
   "outputs": [
    {
     "data": {
      "text/plain": [
       "19351"
      ]
     },
     "execution_count": 18,
     "metadata": {},
     "output_type": "execute_result"
    }
   ],
   "source": [
    "df.iloc[100].sum()"
   ]
  },
  {
   "cell_type": "code",
   "execution_count": 19,
   "id": "05325e44",
   "metadata": {},
   "outputs": [
    {
     "name": "stdout",
     "output_type": "stream",
     "text": [
      "Número de columnas es : 12\n"
     ]
    }
   ],
   "source": [
    "shape = df.shape\n",
    "\n",
    "print('Número de columnas es :', shape[1])"
   ]
  },
  {
   "cell_type": "code",
   "execution_count": 20,
   "id": "bd93a26c",
   "metadata": {},
   "outputs": [
    {
     "data": {
      "text/plain": [
       "Enero        95694\n",
       "Febrero         78\n",
       "Mayo         20608\n",
       "Julio        15396\n",
       "Octubre       6824\n",
       "Noviembre     2314\n",
       "dtype: int64"
      ]
     },
     "execution_count": 20,
     "metadata": {},
     "output_type": "execute_result"
    }
   ],
   "source": [
    "cols_a_sumar=['Enero','Febrero','Mayo','Julio','Octubre','Noviembre']\n",
    "df[cols_a_sumar].sum()"
   ]
  },
  {
   "cell_type": "code",
   "execution_count": 27,
   "id": "ff9418bb",
   "metadata": {},
   "outputs": [
    {
     "data": {
      "text/html": [
       "<div>\n",
       "<style scoped>\n",
       "    .dataframe tbody tr th:only-of-type {\n",
       "        vertical-align: middle;\n",
       "    }\n",
       "\n",
       "    .dataframe tbody tr th {\n",
       "        vertical-align: top;\n",
       "    }\n",
       "\n",
       "    .dataframe thead th {\n",
       "        text-align: right;\n",
       "    }\n",
       "</style>\n",
       "<table border=\"1\" class=\"dataframe\">\n",
       "  <thead>\n",
       "    <tr style=\"text-align: right;\">\n",
       "      <th></th>\n",
       "      <th>Enero</th>\n",
       "      <th>Febrero</th>\n",
       "      <th>Marzo</th>\n",
       "      <th>Abril</th>\n",
       "      <th>Mayo</th>\n",
       "      <th>Junio</th>\n",
       "      <th>Julio</th>\n",
       "      <th>Agosto</th>\n",
       "      <th>Septiembre</th>\n",
       "      <th>Octubre</th>\n",
       "      <th>Noviembre</th>\n",
       "      <th>Diciembre</th>\n",
       "    </tr>\n",
       "  </thead>\n",
       "  <tbody>\n",
       "    <tr>\n",
       "      <th>0</th>\n",
       "      <td>760</td>\n",
       "      <td>343</td>\n",
       "      <td>265</td>\n",
       "      <td>-624</td>\n",
       "      <td>-390</td>\n",
       "      <td>-796</td>\n",
       "      <td>601</td>\n",
       "      <td>-780</td>\n",
       "      <td>-491</td>\n",
       "      <td>645</td>\n",
       "      <td>-248</td>\n",
       "      <td>714</td>\n",
       "    </tr>\n",
       "    <tr>\n",
       "      <th>1</th>\n",
       "      <td>223</td>\n",
       "      <td>491</td>\n",
       "      <td>-397</td>\n",
       "      <td>-123</td>\n",
       "      <td>6</td>\n",
       "      <td>-115</td>\n",
       "      <td>157</td>\n",
       "      <td>-741</td>\n",
       "      <td>-951</td>\n",
       "      <td>267</td>\n",
       "      <td>14</td>\n",
       "      <td>-596</td>\n",
       "    </tr>\n",
       "    <tr>\n",
       "      <th>2</th>\n",
       "      <td>872</td>\n",
       "      <td>-913</td>\n",
       "      <td>558</td>\n",
       "      <td>278</td>\n",
       "      <td>544</td>\n",
       "      <td>-223</td>\n",
       "      <td>607</td>\n",
       "      <td>-113</td>\n",
       "      <td>348</td>\n",
       "      <td>576</td>\n",
       "      <td>-977</td>\n",
       "      <td>195</td>\n",
       "    </tr>\n",
       "    <tr>\n",
       "      <th>3</th>\n",
       "      <td>111</td>\n",
       "      <td>-842</td>\n",
       "      <td>730</td>\n",
       "      <td>-761</td>\n",
       "      <td>158</td>\n",
       "      <td>-963</td>\n",
       "      <td>-290</td>\n",
       "      <td>-669</td>\n",
       "      <td>191</td>\n",
       "      <td>130</td>\n",
       "      <td>170</td>\n",
       "      <td>-274</td>\n",
       "    </tr>\n",
       "    <tr>\n",
       "      <th>4</th>\n",
       "      <td>919</td>\n",
       "      <td>111</td>\n",
       "      <td>-688</td>\n",
       "      <td>15</td>\n",
       "      <td>395</td>\n",
       "      <td>9</td>\n",
       "      <td>553</td>\n",
       "      <td>297</td>\n",
       "      <td>-302</td>\n",
       "      <td>695</td>\n",
       "      <td>730</td>\n",
       "      <td>-731</td>\n",
       "    </tr>\n",
       "  </tbody>\n",
       "</table>\n",
       "</div>"
      ],
      "text/plain": [
       "   Enero  Febrero  Marzo  Abril  Mayo  Junio  Julio  Agosto  Septiembre  \\\n",
       "0    760      343    265   -624  -390   -796    601    -780        -491   \n",
       "1    223      491   -397   -123     6   -115    157    -741        -951   \n",
       "2    872     -913    558    278   544   -223    607    -113         348   \n",
       "3    111     -842    730   -761   158   -963   -290    -669         191   \n",
       "4    919      111   -688     15   395      9    553     297        -302   \n",
       "\n",
       "   Octubre  Noviembre  Diciembre  \n",
       "0      645       -248        714  \n",
       "1      267         14       -596  \n",
       "2      576       -977        195  \n",
       "3      130        170       -274  \n",
       "4      695        730       -731  "
      ]
     },
     "execution_count": 27,
     "metadata": {},
     "output_type": "execute_result"
    }
   ],
   "source": [
    "df.head()"
   ]
  },
  {
   "cell_type": "code",
   "execution_count": 29,
   "id": "b5c99461",
   "metadata": {},
   "outputs": [
    {
     "name": "stdout",
     "output_type": "stream",
     "text": [
      "369580.0\n"
     ]
    }
   ],
   "source": [
    "sum_positives = df[df > 0].sum().sum()"
   ]
  },
  {
   "cell_type": "code",
   "execution_count": 30,
   "id": "e4e512a1",
   "metadata": {},
   "outputs": [
    {
     "name": "stdout",
     "output_type": "stream",
     "text": [
      "-330878.0\n"
     ]
    }
   ],
   "source": [
    "sum_negatives = df[df < 0].sum().sum()\n",
    "print(sum_negatives)"
   ]
  }
 ],
 "metadata": {
  "kernelspec": {
   "display_name": "Python 3 (ipykernel)",
   "language": "python",
   "name": "python3"
  },
  "language_info": {
   "codemirror_mode": {
    "name": "ipython",
    "version": 3
   },
   "file_extension": ".py",
   "mimetype": "text/x-python",
   "name": "python",
   "nbconvert_exporter": "python",
   "pygments_lexer": "ipython3",
   "version": "3.9.13"
  }
 },
 "nbformat": 4,
 "nbformat_minor": 5
}
